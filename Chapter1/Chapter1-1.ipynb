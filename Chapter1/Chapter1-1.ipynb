{
 "cells": [
  {
   "metadata": {},
   "cell_type": "markdown",
   "source": "# 1. 신경망 복습",
   "id": "b6be412779d1fb5e"
  },
  {
   "metadata": {},
   "cell_type": "markdown",
   "source": "## 1.1.1 백터와 행렬",
   "id": "b23389438942900b"
  },
  {
   "cell_type": "code",
   "id": "initial_id",
   "metadata": {
    "collapsed": true,
    "ExecuteTime": {
     "end_time": "2024-06-22T06:15:05.627504Z",
     "start_time": "2024-06-22T06:15:05.613359Z"
    }
   },
   "source": [
    "import numpy as np\n",
    "\n",
    "x = np.array([1, 2, 3])\n",
    "print(type(x))\n",
    "print(x.__class__) # 같은 type과 같이 같은 결과 값을 나타낸다\n",
    "\n",
    "x.shape # 다차원 배열의 형상\n",
    "x.ndim # 차원의 수 확인\n",
    "\n",
    "W = np.array([[1, 2, 3], [4, 5, 6]])\n",
    "W.shape\n",
    "\n",
    "W.ndim"
   ],
   "outputs": [
    {
     "name": "stdout",
     "output_type": "stream",
     "text": [
      "<class 'numpy.ndarray'>\n",
      "<class 'numpy.ndarray'>\n"
     ]
    },
    {
     "data": {
      "text/plain": [
       "2"
      ]
     },
     "execution_count": 20,
     "metadata": {},
     "output_type": "execute_result"
    }
   ],
   "execution_count": 20
  },
  {
   "metadata": {},
   "cell_type": "markdown",
   "source": "## 1.1.2 행렬의 원소별 연산",
   "id": "aa875d8e92734d09"
  },
  {
   "metadata": {
    "ExecuteTime": {
     "end_time": "2024-06-22T06:17:53.685040Z",
     "start_time": "2024-06-22T06:17:53.681119Z"
    }
   },
   "cell_type": "code",
   "source": [
    "W = np.array([[1, 2, 3], [4, 5, 6]])\n",
    "X = np.array([[0, 1, 2], [3, 4, 5]])\n",
    "\n",
    "W+X\n",
    "W*X\n",
    "\n",
    "# 차원의 수와 원소의 수가 일치하면 원소별 연산이 가능하다"
   ],
   "id": "3cc361615f984db1",
   "outputs": [
    {
     "data": {
      "text/plain": [
       "array([[ 0,  2,  6],\n",
       "       [12, 20, 30]])"
      ]
     },
     "execution_count": 26,
     "metadata": {},
     "output_type": "execute_result"
    }
   ],
   "execution_count": 26
  },
  {
   "metadata": {
    "ExecuteTime": {
     "end_time": "2024-06-22T06:21:14.847909Z",
     "start_time": "2024-06-22T06:21:14.834437Z"
    }
   },
   "cell_type": "code",
   "source": [
    "# 브로드 캐스트 연산 예1 \n",
    "A = np.array([[1,2], [3,4]])\n",
    "A * 10\n",
    "\n",
    "# 브로드 캐스트 연산 예2\n",
    "A = np.array([[1,2], [3,4]])\n",
    "b = np.array([10, 20])\n",
    "A*b\n",
    "\n",
    "'''\n",
    "1차원 배열인 b가 2차원 배열 A와 형상이 같아 지도록 확장된다\n",
    "'''"
   ],
   "id": "6f8e1c12df7a1886",
   "outputs": [
    {
     "data": {
      "text/plain": [
       "'\\n1차원 배열인 b가 2차원 배열 A와 형상이 같아 지도록 확장된다\\n'"
      ]
     },
     "execution_count": 32,
     "metadata": {},
     "output_type": "execute_result"
    }
   ],
   "execution_count": 32
  },
  {
   "metadata": {},
   "cell_type": "markdown",
   "source": "## 1.1.4 벡터의 내적과 행렬의 곱",
   "id": "50700d009f1c8fd1"
  },
  {
   "metadata": {},
   "cell_type": "markdown",
   "source": "$$\\mathbf{a} \\cdot \\mathbf{b} = a_1 b_1 + a_2 b_2 + \\cdots + a_n b_n$$",
   "id": "32f2050fc5241650"
  },
  {
   "metadata": {},
   "cell_type": "markdown",
   "source": [
    "### 벡터의 내적이 딥러닝에서의 의미\n",
    "![title](vector_angle.png)\n",
    "\n",
    "#### 1. 유사성 측정\n",
    "두 벡터가 유사한 방향을 가르키면 내적 값이 커지며, 반대 방향을 가리키면 내적 값이 작아지거나 음수가 된다.  \n",
    "이는 특히 임베딩(embedding) 벡터 간의 유사성을 측정할 때 유용하다.  \n",
    "ex) 단어 임베딩에서 두 단어의 유사도를 측정할 때 벡터 내적을 사용할 수 있다.  \n",
    "$$\n",
    "\\mathbf{a} \\cdot \\mathbf{b} = \\|\\mathbf{a}\\| \\|\\mathbf{b}\\| \\cos \\theta\n",
    "$$\n",
    "- $\\cos \\theta = 1$일 때, 두 벡터는 같은 방향을 향합니다 $(\\theta = 0^\\circ)$\n",
    "- $\\cos \\theta = 0$일 때, 두 벡터는 서로 직각입니다$(\\theta = 90^\\circ)$\n",
    "- $\\cos \\theta = -1$일 때, 두 벡터는 반대 방향을 향합니다$(\\theta = 180^\\circ)$\n",
    "\n",
    "#### 2. 신경망의 연산\n",
    "신경망의 각 층에서 행해지는 주요 연산 중 하나는 입력 벡터와 가중치 벡터 간의 내적임  \n",
    "이는 아래 수식으로 표현할 수 있음  \n",
    "$$\n",
    "y = \\mathbf{W} \\mathbf{x} + \\mathbf{b}\n",
    "$$\n",
    "- $W$는 가중치 행렬입니다.  \n",
    "- $x$는 입력 벡터입니다.  \n",
    "- $b$는 바이어스 벡터입니다.  \n",
    "- $y$는 출력입니다.  \n",
    "\n",
    "입력 벡터 $x$와 가중치 벡터 $w$간의 내적이 계산되고, 이 값에 바이어스 $b$가 더해져 활성화 함수에 전달되고, 이는 뉴런의 활성화 수준을 결정\n",
    "\n",
    "#### 3. 회귀와 분류\n",
    "선형 회귀와 로지스틱 회귀와 같은 모델에서도 벡터 내적은 예측 값을 계산하는데 사용된다.  \n",
    "ex) 선형 회귀 모델에서 예측 값 $\\hat{y}$는 아래와 같이 계산된다.  \n",
    "$$\n",
    "\\hat{y} = \\mathbf{w} \\cdot \\mathbf{x} + \\mathbf{b}\n",
    "$$ \n",
    "여기서 $w$는 가중치 벡터이고, $x$는 특징 벡터입니다. 로지스틱 회귀에서는 동일한 방식으로 계산된 값이 시그모이드 함수에 전달되어 확률을 출력함\n",
    "\n",
    "#### 4. 합성곱 연산(Convolution Operation)\n",
    "합성곱 신경망 (CNN)에서는 필터(커널)와 이미지의 특정 영역 간의 합성곱 연산이 이루어지는데, 이는 필터와 이미지 패치 간의 내적으로 해석될 수 있다.  \n",
    "각 필터는 특정 특징을 추출하는 역할을 하며, 필터와 이미지 패치 간의 내적 값이 클수록 해당 특징이 강하게 나타남을 의미  \n",
    "\n",
    "#### 5. Attention Mechanism\n",
    "딥러닝 최신 모델에서 자ㅏ주 사용되는 어텐션 메커니즘에서도 내적이 중요하다.  \n",
    "쿼리 벡터와 키 벡터 간의 내적을 통해 어텐션 스코어를 계산한다.  \n",
    "\n",
    "#### 6. 임베딩 공간에서 학습\n",
    "임베딩 공간에서 벡터 간의 내적은 데이터를 의미 있는 방식으로 매핑하는 데 사용된다.  \n",
    "임베딩 벡터 간의 내적을 통해 의미 유사성을 학습할 수 있다.  \n",
    "ex) Word2Vec 모델에서 단어 벡터 간의 내적은 단어 간의 유사성을 반영  \n",
    "\n",
    "#### 7. Summary\n",
    "- 유사성 측정  \n",
    "- 신경망 연산  \n",
    "- 회귀 및 분류  \n",
    "- 합성곱 연산  \n",
    "- 어텐션 메커니즘  \n",
    "- 임베딩 공간 학습  \n",
    "\n",
    "내적을 통해 벡터 간의 방향성과 크기를 비교하고, 이를 기반으로 모델이 학습하고 예측할 수 있다.  \n",
    "벡터의 내적은 딥러닝 모델의 핵심적인 수학적 도구로 작용한다."
   ],
   "id": "3984d45520d499b1"
  },
  {
   "metadata": {},
   "cell_type": "markdown",
   "source": "---",
   "id": "ef890a9ca1a9855b"
  }
 ],
 "metadata": {
  "kernelspec": {
   "display_name": "Python 3",
   "language": "python",
   "name": "python3"
  },
  "language_info": {
   "codemirror_mode": {
    "name": "ipython",
    "version": 2
   },
   "file_extension": ".py",
   "mimetype": "text/x-python",
   "name": "python",
   "nbconvert_exporter": "python",
   "pygments_lexer": "ipython2",
   "version": "2.7.6"
  }
 },
 "nbformat": 4,
 "nbformat_minor": 5
}
