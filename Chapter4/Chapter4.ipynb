{
 "cells": [
  {
   "metadata": {},
   "cell_type": "markdown",
   "source": "# Chap04 - Word2Vec 속도 개선",
   "id": "85f26f222d2ec973"
  },
  {
   "metadata": {},
   "cell_type": "markdown",
   "source": [
    "이번장의 목표는 word2vec의 속도 개선이다.  \n",
    "1. Embedding 계층을 추가한다.  \n",
    "2. 네거티브 샘플링이라는 새로운 손실 함수를 도입한다.  \n",
    "\n",
    "word2vec이 완성되면 PTB 데이터셋(실용적인 크기의 말뭉치)을 가지고 학습 수행  "
   ],
   "id": "a04e593fdfa2c4a8"
  },
  {
   "metadata": {},
   "cell_type": "markdown",
   "source": [
    "## 4.1 word2vec 개선 1\n",
    "Chapter 3에서 구현한 CBOW 모델은 작은 말뭉치를 처리하는데는 문제가 없으나, 100만개의 어휘와 같이 큰 말뭉치에서는 아래 두가지와 같은 문제가 발생한다.  \n",
    "1. 입력층의 원핫 표현과 가중치 행렬 $\\mathbf{W}_{\\text{in}}$의 곱 계산\n",
    "2. 은닉층과 가중치 행렬 $\\mathbf{W}_{\\text{out}}$의 곱 및 Softmax 계층의 계산"
   ],
   "id": "14e192ffdef051c3"
  },
  {
   "metadata": {},
   "cell_type": "markdown",
   "source": [
    "## 4.1.1 Embedding 계층\n",
    "기존 CBOW 방법에서는 단어를 원핫인코딩으로 바꿨는데 그것은 단지 행렬의 특정 행을 추출하는 것 뿐이기 때문에 원핫으로의 변환과 MatMul 계층의 행렬 곱 계산은 사실 필요가 없다.  \n",
    "따라서 단어 ID에 해당하는 행(백터)을 추출하는 계층을 만들어 사용하게 되는데 이를 Embedding 계층이라고 한다."
   ],
   "id": "16a2bbb34ea6599b"
  },
  {
   "metadata": {},
   "cell_type": "markdown",
   "source": "## 4.1.2 Embedding 계층 구현",
   "id": "7db137a17590461b"
  },
  {
   "metadata": {
    "ExecuteTime": {
     "end_time": "2024-07-15T10:11:30.640995Z",
     "start_time": "2024-07-15T10:11:30.524324Z"
    }
   },
   "cell_type": "code",
   "source": [
    "import numpy as np\n",
    "\n",
    "W = np.arange(21).reshape(7, 3)\n",
    "W"
   ],
   "id": "fc0d4b26848f44cd",
   "outputs": [
    {
     "data": {
      "text/plain": [
       "array([[ 0,  1,  2],\n",
       "       [ 3,  4,  5],\n",
       "       [ 6,  7,  8],\n",
       "       [ 9, 10, 11],\n",
       "       [12, 13, 14],\n",
       "       [15, 16, 17],\n",
       "       [18, 19, 20]])"
      ]
     },
     "execution_count": 1,
     "metadata": {},
     "output_type": "execute_result"
    }
   ],
   "execution_count": 1
  },
  {
   "metadata": {
    "ExecuteTime": {
     "end_time": "2024-07-15T10:11:30.657006Z",
     "start_time": "2024-07-15T10:11:30.641996Z"
    }
   },
   "cell_type": "code",
   "source": [
    "# 두 번째 행 가져오기\n",
    "# -> index=2에 해당하는 단어 벡터\n",
    "W[2]"
   ],
   "id": "b66a695edb52df37",
   "outputs": [
    {
     "data": {
      "text/plain": [
       "array([6, 7, 8])"
      ]
     },
     "execution_count": 2,
     "metadata": {},
     "output_type": "execute_result"
    }
   ],
   "execution_count": 2
  },
  {
   "metadata": {
    "ExecuteTime": {
     "end_time": "2024-07-15T10:11:32.931423Z",
     "start_time": "2024-07-15T10:11:32.926510Z"
    }
   },
   "cell_type": "code",
   "source": "W[5]",
   "id": "75667ee5341c1c33",
   "outputs": [
    {
     "data": {
      "text/plain": [
       "array([15, 16, 17])"
      ]
     },
     "execution_count": 3,
     "metadata": {},
     "output_type": "execute_result"
    }
   ],
   "execution_count": 3
  },
  {
   "metadata": {
    "ExecuteTime": {
     "end_time": "2024-07-15T10:11:44.029431Z",
     "start_time": "2024-07-15T10:11:44.010721Z"
    }
   },
   "cell_type": "code",
   "source": [
    "# 가중치 W로 부터 여러행을 \n",
    "# 한꺼번에 추출하는 예제\n",
    "idx = np.array([1, 0, 3, 0])\n",
    "W[idx]"
   ],
   "id": "d18cf1ac35d01a6d",
   "outputs": [
    {
     "data": {
      "text/plain": [
       "array([[ 3,  4,  5],\n",
       "       [ 0,  1,  2],\n",
       "       [ 9, 10, 11],\n",
       "       [ 0,  1,  2]])"
      ]
     },
     "execution_count": 4,
     "metadata": {},
     "output_type": "execute_result"
    }
   ],
   "execution_count": 4
  },
  {
   "metadata": {
    "ExecuteTime": {
     "end_time": "2024-07-15T10:11:47.801495Z",
     "start_time": "2024-07-15T10:11:47.796495Z"
    }
   },
   "cell_type": "code",
   "source": [
    "# Embedding Layer 구현\n",
    "# commons/layers.py\n",
    "class Embedding:\n",
    "    def __init__(self, W):\n",
    "        self.params = [W]\n",
    "        self.grads = [np.zeros_like(W)]\n",
    "        self.idx = None\n",
    "        \n",
    "    def forward(self, idx):\n",
    "        W, = self.params\n",
    "        self.idx = idx\n",
    "        out = W[idx]\n",
    "        return out\n",
    "    \n",
    "    def backward(self, dout):\n",
    "        dW, = self.grads\n",
    "        dW[...] = 0\n",
    "        np.add.at(dW, self.idx, dout)\n",
    "        return None"
   ],
   "id": "8999a48ce4bbc9ec",
   "outputs": [],
   "execution_count": 5
  },
  {
   "metadata": {},
   "cell_type": "markdown",
   "source": [
    "# 4.2 Word2Vec 개선 2\n",
    "은닉층 이후의 처리(행렬 곱과 Softmax 계층의 계산)  \n",
    "Softmax 대신 네거티브 샘플링을 이용하면 어휘가 아무리 많아져도 계산량을 낮은 수준에서 일정하게 억제할 수 있다.  "
   ],
   "id": "9cf145bf92813d54"
  },
  {
   "metadata": {},
   "cell_type": "markdown",
   "source": [
    "## 4.2.1 은닉층 이후 계산의 문제점\n",
    "100만개의 단어에 대해 Softmax를 구하게 되면 계산량이 많아지는 문제가 있다.  \n",
    "\n",
    "$$\n",
    "y_k = \\frac{\\exp{(s_k)}}{\\sum_{i=1}^{1000000}{\\exp{(s_i)}}}\n",
    "$$"
   ],
   "id": "61a4bc874c6b03a9"
  },
  {
   "metadata": {},
   "cell_type": "markdown",
   "source": [
    "## 4.2.2 다중 분류에서 이진 분류로\n",
    "네거티브 샘플링 기법은 다중 분류(multi-class classification)을 이진분류(binary classification)으로 근사하는 것 이다.  \n",
    "출력층의 값과 은닉층 뉴런과의 내적을 계산하면 최종 점수 값이 나온다.  "
   ],
   "id": "85d4cc83ce0265c0"
  },
  {
   "metadata": {},
   "cell_type": "markdown",
   "source": [
    "## 4.2.3 시그모이드 함수와 교차 엔트로피 오차\n",
    "다중 분류의 경우 출력층에서 점수를 확률로 변환할 때, 소프트맥스 함수를 사용한다.  \n",
    "이진 분류의 경우 시그모이드 함수를 사용한다.  \n",
    "\n",
    "시그모이드 함수를 적용해 확률 $y$를 구한 후, 이 확률 $y$로 부터 손실(Loss)을 구한다.\n",
    "\n",
    "\n",
    "$$\n",
    "L = - \\left[ t \\log{y} + (1-t) \\log{(1-y)} \\right]\n",
    "$$\n",
    "\n",
    "'Sigmoid with Loss' 레이어의 역전파를 구하면 다음과 같다.\n",
    "\n",
    "$$\n",
    "\\begin{align*}\n",
    "\\frac{\\partial L}{\\partial x} &= \\frac{\\partial L}{\\partial y} \\frac{\\partial y}{\\partial x} = y-t \\\\\n",
    "\\frac{\\partial L}{\\partial y} &= -\\frac{t}{y} + \\frac{1-t}{1-y} = \\frac{y-t}{y(1-y)} \\\\\n",
    "\\frac{\\partial y}{\\partial x} &= y(1-y)\n",
    "\\end{align*}\n",
    "$$"
   ],
   "id": "e8c52e99262d735f"
  },
  {
   "metadata": {},
   "cell_type": "markdown",
   "source": "위의 식에서 'Sigmoid with Loss'레이어에서의 역전파는 $y-t$ 즉, 오차가 앞의 계층으로 흘러가게 된다. 따라서, 오차가 크면 '크게'학습하고, 오차가 작으면 '작게'학습하게 된다.",
   "id": "5b367c9d05e9ad08"
  },
  {
   "metadata": {},
   "cell_type": "markdown",
   "source": "## 4.2.4 다중 분류에서 이진 분류로(구현)",
   "id": "45d912c272a7cfb4"
  },
  {
   "metadata": {
    "ExecuteTime": {
     "end_time": "2024-07-15T12:39:07.363019Z",
     "start_time": "2024-07-15T12:39:07.341510Z"
    }
   },
   "cell_type": "code",
   "source": [
    "# Chap04/negative_sampling_layer.py\n",
    "import sys\n",
    "sys.path.append('..')\n",
    "import collections\n",
    "from common.np import *\n",
    "from common.layers import Embedding, SigmoidWithLoss"
   ],
   "id": "b29c985f7d2597d2",
   "outputs": [],
   "execution_count": 7
  },
  {
   "metadata": {
    "ExecuteTime": {
     "end_time": "2024-07-15T12:39:10.580890Z",
     "start_time": "2024-07-15T12:39:10.561708Z"
    }
   },
   "cell_type": "code",
   "source": [
    "class EmbeddingDot:\n",
    "    def __init__(self, W):\n",
    "        self.embed = Embedding(W)\n",
    "        self.params = self.embed.params\n",
    "        self.grads = self.embed.grads\n",
    "        self.cache = None\n",
    "        \n",
    "    def forward(self, h, idx):\n",
    "        target_W = self.embed.forward(idx)\n",
    "        out = np.sum(target_W * h, axis=1)\n",
    "        \n",
    "        self.cache = (h, target_W)\n",
    "        return out\n",
    "    \n",
    "    def backward(self, dout):\n",
    "        h, target_W = self.cache\n",
    "        dout = dout.reshape(dout.shape[0], 1)\n",
    "        \n",
    "        dtarget_W = dout * h\n",
    "        self.embed.backward(dtarget_W)\n",
    "        dh = dout * target_W\n",
    "        return dh"
   ],
   "id": "1c34087141c99e86",
   "outputs": [],
   "execution_count": 8
  },
  {
   "metadata": {},
   "cell_type": "markdown",
   "source": [
    "### 4.2.5 네거티브 샘플링\n",
    "\n",
    "다중 분류 문제를 이진 분류로 바꾸면서 `(입력, 타깃)`의 정답인 예제와 오답(`window_size`내에 포함 되어 있지 않은 단어 쌍)인 네거티브 샘플을 사용한다. 여기서 네거티브 샘플은 모든 단어에 대한 네거티브 샘플이 아니라 몇 개(5개 또는 10개) 정도를 선택하여, 즉 샘플링해 사용한다. \n",
    "\n",
    "Word2Vec의 학습 단계에서는 정답 데이터 쌍에 대해서는 1에 가깝게 예측하도록 학습하고, 오답(네거티브 샘플) 데이터 쌍에 대해서는 0에 가깝게 예측하도록 학습한다.\n",
    "\n",
    "현업에서는 오답 뿐 아니라 특정 답변에 대해 기피해야할 부분과 좀 더 좋은 성능을 나타낼 때도 사용한다고 한다."
   ],
   "id": "3065722f2fefb0c6"
  },
  {
   "metadata": {},
   "cell_type": "markdown",
   "source": [
    "## 4.2.6 네거티브 샘플링의 샘플링 기법\n",
    "\n",
    "네거티브 샘플링 방법에는 단순히 랜덤하게 샘플링하는 것이 아니라, 말뭉치(corpus)에서 각 단어에 대한 확률분포로 단어를 샘플링한다. 확률분포에서 샘플링하기 때문에 말뭉치에서 자주 등장하는 단어는 샘플링 될 가능성이 높고, '희소한 단어'는 선택되기 어렵다. '희소한 단어'는 실제로 많이 등장하는 단어가 아니기 때문에 이러한 드문 단어를 잘 처리하는 것은 중요하지 않으며, 차라리 흔한 단어를 잘 처리하는 편이 결과가 더 좋다."
   ],
   "id": "a8e399e6b81c8f83"
  },
  {
   "metadata": {
    "ExecuteTime": {
     "end_time": "2024-07-15T12:41:50.541943Z",
     "start_time": "2024-07-15T12:41:50.523931Z"
    }
   },
   "cell_type": "code",
   "source": [
    "# 확률분포에 따른 샘플링 예제\n",
    "import numpy as np\n",
    "\n",
    "# 0에서 9까지의 숫자 중 하나를 랜덤하게 샘플링\n",
    "np.random.choice(10)"
   ],
   "id": "61be6a1cb27654e5",
   "outputs": [
    {
     "data": {
      "text/plain": [
       "2"
      ]
     },
     "execution_count": 9,
     "metadata": {},
     "output_type": "execute_result"
    }
   ],
   "execution_count": 9
  },
  {
   "metadata": {
    "ExecuteTime": {
     "end_time": "2024-07-15T12:41:53.864682Z",
     "start_time": "2024-07-15T12:41:53.858675Z"
    }
   },
   "cell_type": "code",
   "source": "np.random.choice(10)",
   "id": "779ad7203135f956",
   "outputs": [
    {
     "data": {
      "text/plain": [
       "4"
      ]
     },
     "execution_count": 10,
     "metadata": {},
     "output_type": "execute_result"
    }
   ],
   "execution_count": 10
  },
  {
   "metadata": {
    "ExecuteTime": {
     "end_time": "2024-07-15T12:41:57.838694Z",
     "start_time": "2024-07-15T12:41:57.830619Z"
    }
   },
   "cell_type": "code",
   "source": [
    "# words에서 하나만 무작위로 샘플링\n",
    "words = ['you', 'say', 'goodbye', 'i', 'hello', '.']\n",
    "np.random.choice(words)"
   ],
   "id": "93add203d27a64d5",
   "outputs": [
    {
     "data": {
      "text/plain": [
       "'hello'"
      ]
     },
     "execution_count": 11,
     "metadata": {},
     "output_type": "execute_result"
    }
   ],
   "execution_count": 11
  },
  {
   "metadata": {
    "ExecuteTime": {
     "end_time": "2024-07-15T12:42:00.664781Z",
     "start_time": "2024-07-15T12:42:00.646781Z"
    }
   },
   "cell_type": "code",
   "source": [
    "# 5개만 무작위로 샘플링(중복 없음)\n",
    "np.random.choice(words, size=5, replace=False)"
   ],
   "id": "4dc3e3e5586038e6",
   "outputs": [
    {
     "data": {
      "text/plain": [
       "array(['hello', 'goodbye', '.', 'say', 'you'], dtype='<U7')"
      ]
     },
     "execution_count": 12,
     "metadata": {},
     "output_type": "execute_result"
    }
   ],
   "execution_count": 12
  },
  {
   "metadata": {
    "ExecuteTime": {
     "end_time": "2024-07-15T12:42:03.711366Z",
     "start_time": "2024-07-15T12:42:03.704361Z"
    }
   },
   "cell_type": "code",
   "source": [
    "# 확률분포에 따라 샘플링\n",
    "p = [0.5, 0.1, 0.05, 0.2, 0.05, 0.1]\n",
    "np.random.choice(words, p=p)"
   ],
   "id": "6d71f1879c3cc115",
   "outputs": [
    {
     "data": {
      "text/plain": [
       "'i'"
      ]
     },
     "execution_count": 13,
     "metadata": {},
     "output_type": "execute_result"
    }
   ],
   "execution_count": 13
  },
  {
   "metadata": {},
   "cell_type": "markdown",
   "source": [
    "#### Word2Vec에서의 네거티브 샘플링\n",
    "\n",
    "Word2Vec에서의 확률분포는 기본 확률분포(Unigram Distribution)에 $\\frac{3}{4} = 0.75$를 제곱해준다.\n",
    "\n",
    "\n",
    "$$\n",
    "P'(w_i) = \\frac{P(w_i)^{0.75}}{\\sum_{j}^{n}{p(w_j)^{0.75}}}\n",
    "$$\n",
    "\n",
    "아래의 예제에서 확인할 수 있듯이, 낮은 확률의 단어가 (조금 더) 쉽게 샘플링되도록 하기 위함이다.  \n",
    "높은 확률의 단어를 높게만 잡는 것 보다 낮은 확률의 단어도 조금 확률을 높여주는게 모델 성능이 올라가는데 기여한다.  "
   ],
   "id": "c58de1270c0eace9"
  },
  {
   "metadata": {
    "ExecuteTime": {
     "end_time": "2024-07-15T12:46:23.181587Z",
     "start_time": "2024-07-15T12:46:23.171085Z"
    }
   },
   "cell_type": "code",
   "source": [
    "p = [0.7, 0.29, 0.01]\n",
    "new_p = np.power(p, 0.75)\n",
    "\n",
    "new_p /= np.sum(new_p)\n",
    "print(new_p)"
   ],
   "id": "2bc46cc930790342",
   "outputs": [
    {
     "name": "stdout",
     "output_type": "stream",
     "text": [
      "[0.64196878 0.33150408 0.02652714]\n"
     ]
    }
   ],
   "execution_count": 14
  },
  {
   "metadata": {
    "ExecuteTime": {
     "end_time": "2024-07-15T12:46:25.970964Z",
     "start_time": "2024-07-15T12:46:25.951063Z"
    }
   },
   "cell_type": "code",
   "source": [
    "import sys\n",
    "sys.path.append('..')\n",
    "from common.np import *  # import numpy as np\n",
    "from common.layers import Embedding, SigmoidWithLoss\n",
    "import collections\n",
    "\n",
    "# Negative Sampling 클래스 구현\n",
    "# chap04/negative_sampling_layer.py\n",
    "class UnigramSampler:\n",
    "    def __init__(self, corpus, power, sample_size):\n",
    "        self.sample_size = sample_size\n",
    "        self.vocab_size = None\n",
    "        self.word_p = None\n",
    "        \n",
    "        counts = collections.Counter()\n",
    "        for word_id in corpus:\n",
    "            counts[word_id] += 1\n",
    "            \n",
    "        vocab_size = len(counts)\n",
    "        self.vocab_size = vocab_size\n",
    "        \n",
    "        self.word_p = np.zeros(vocab_size)\n",
    "        for i in range(vocab_size):\n",
    "            self.word_p[i] = counts[i]\n",
    "            \n",
    "        self.word_p = np.power(self.word_p, power)\n",
    "        self.word_p /= np.sum(self.word_p)\n",
    "        \n",
    "    def get_negative_sample(self, target):\n",
    "        batch_size = target.shape[0]\n",
    "        \n",
    "        if not GPU:  # == CPU\n",
    "            negative_sample = np.zeros((batch_size, self.sample_size), dtype=np.int32)\n",
    "            \n",
    "            for i in range(batch_size):\n",
    "                p = self.word_p.copy()\n",
    "                target_idx = target[i]\n",
    "                p[target_idx] = 0  # target이 뽑히지 않게 하기 위함\n",
    "                p /= p.sum()  # 다시 정규화 해줌\n",
    "                negative_sample[i, :] = np.random.choice(self.vocab_size,\n",
    "                                                         size=self.sample_size,\n",
    "                                                         replace=False, p=p)\n",
    "                \n",
    "        else:\n",
    "            # GPU(cupy)로 계산할 때는 속도를 우선한다.\n",
    "            # 부정적 예에 타깃이 포함될 수 있다.\n",
    "            negative_sample = np.random.choice(self.vocab_size, \n",
    "                                               size=(batch_size, self.sample_size), \n",
    "                                               replace=True, p=self.word_p)\n",
    "            \n",
    "        return negative_sample"
   ],
   "id": "390099a1b4b4fc7f",
   "outputs": [],
   "execution_count": 15
  },
  {
   "metadata": {
    "ExecuteTime": {
     "end_time": "2024-07-15T12:46:29.842941Z",
     "start_time": "2024-07-15T12:46:29.836945Z"
    }
   },
   "cell_type": "code",
   "source": [
    "corpus = np.array([0, 1, 2, 3, 4, 1, 2, 3])\n",
    "power = 0.75\n",
    "sample_size = 2\n",
    "\n",
    "sampler = UnigramSampler(corpus, power, sample_size)\n",
    "target = np.array([1, 3, 0])\n",
    "negative_sample = sampler.get_negative_sample(target)\n",
    "print(negative_sample)"
   ],
   "id": "9d85cbd29a5fded5",
   "outputs": [
    {
     "name": "stdout",
     "output_type": "stream",
     "text": [
      "[[2 0]\n",
      " [4 2]\n",
      " [4 2]]\n"
     ]
    }
   ],
   "execution_count": 16
  },
  {
   "metadata": {},
   "cell_type": "markdown",
   "source": "### 4.2.7 네거티브 샘플링 구현",
   "id": "f1f8ae74f4c8c615"
  },
  {
   "metadata": {
    "ExecuteTime": {
     "end_time": "2024-07-15T12:46:41.553538Z",
     "start_time": "2024-07-15T12:46:41.547539Z"
    }
   },
   "cell_type": "code",
   "source": [
    "import sys\n",
    "sys.path.append('..')\n",
    "from common.np import *  # import numpy as np\n",
    "from common.layers import Embedding, SigmoidWithLoss\n",
    "import collections"
   ],
   "id": "92770a1b42767a0f",
   "outputs": [],
   "execution_count": 17
  },
  {
   "metadata": {
    "ExecuteTime": {
     "end_time": "2024-07-15T12:46:43.875866Z",
     "start_time": "2024-07-15T12:46:43.859867Z"
    }
   },
   "cell_type": "code",
   "source": [
    "# chap04/negative_sampling_layer.py\n",
    "class NegativeSamplingLoss:\n",
    "    def __init__(self, W, corpus, power=0.75, sample_size=5):\n",
    "        self.sample_size = sample_size \n",
    "        self.sampler = UnigramSampler(corpus, power, sample_size)\n",
    "        self.loss_layers = [SigmoidWithLoss() for _ in range(sample_size + 1)]\n",
    "        self.embed_dot_layers = [EmbeddingDot(W) for _ in range(sample_size + 1)]\n",
    "        \n",
    "        self.params, self.grads = [], []\n",
    "        for layer in self.embed_dot_layers:\n",
    "            self.params += layer.params\n",
    "            self.grads += layer.grads\n",
    "            \n",
    "    def forward(self, h, target):\n",
    "        batch_size = target.shape[0]\n",
    "        negative_sample = self.sampler.get_negative_sample(target)\n",
    "        \n",
    "        # 긍정적 예 순전파\n",
    "        score = self.embed_dot_layers[0].forward(h, target)\n",
    "        correct_label = np.ones(batch_size, dtype=np.int32)\n",
    "        loss = self.loss_layers[0].forward(score, correct_label)\n",
    "        \n",
    "        # 부정적 예 순전파\n",
    "        negative_label = np.zeros(batch_size, dtype=np.int32)\n",
    "        for i in range(self.sample_size):\n",
    "            negative_target = negative_sample[:, i]  # embed_dot에 해당하는 타겟이라는 의미인 듯\n",
    "            score = self.embed_dot_layers[1 + i].forward(h, negative_target)\n",
    "            loss += self.loss_layers[1 + i].forward(score, negative_label)\n",
    "            \n",
    "        return loss\n",
    "    \n",
    "    def backward(self, dout=1):\n",
    "        dh = 0\n",
    "        for l0, l1 in zip(self.loss_layers, self.embed_dot_layers):\n",
    "            dscore = l0.backward(dout)\n",
    "            dh += l1.backward(dscore)\n",
    "        \n",
    "        return dh"
   ],
   "id": "1a175c373e71b057",
   "outputs": [],
   "execution_count": 18
  },
  {
   "metadata": {},
   "cell_type": "markdown",
   "source": "## 4.3 개선판 Word2Vec 학습",
   "id": "2e1d3431059bddc"
  },
  {
   "metadata": {},
   "cell_type": "markdown",
   "source": "### 4.3.1 CBOW 모델 구현",
   "id": "19a0b429295f7eec"
  },
  {
   "metadata": {
    "ExecuteTime": {
     "end_time": "2024-07-15T12:48:02.175373Z",
     "start_time": "2024-07-15T12:48:02.161366Z"
    }
   },
   "cell_type": "code",
   "source": [
    "# chap04/cbow.py\n",
    "import sys\n",
    "sys.path.append('..')\n",
    "from common.np import *\n",
    "from common.layers import Embedding\n",
    "from negative_sampling_layer import NegativeSamplingLoss"
   ],
   "id": "efa7a8da60bc1422",
   "outputs": [],
   "execution_count": 20
  },
  {
   "metadata": {
    "ExecuteTime": {
     "end_time": "2024-07-15T12:48:10.383617Z",
     "start_time": "2024-07-15T12:48:10.369622Z"
    }
   },
   "cell_type": "code",
   "source": [
    "class CBOW:\n",
    "    def __init__(self, vocab_size, hidden_size, window_size, corpus):\n",
    "        V, H = vocab_size, hidden_size\n",
    "        \n",
    "        # 가중치 초기화\n",
    "        W_in = 0.01 * np.random.randn(V, H).astype('f')\n",
    "        W_out = 0.01 * np.random.randn(V, H).astype('f')\n",
    "        \n",
    "        # 레이어 생성\n",
    "        self.in_layers = []\n",
    "        for i in range(2 * window_size):\n",
    "            layer = Embedding(W_in)  # Embedding 계층 사용\n",
    "            self.in_layers.append(layer)\n",
    "        self.ns_loss = NegativeSamplingLoss(W_out, corpus, power=0.75, sample_size=5)\n",
    "        \n",
    "        # 모든 가중치와 기울기를 배열에 모은다.\n",
    "        layers = self.in_layers + [self.ns_loss]\n",
    "        self.params, self.grads = [], []\n",
    "        for layer in layers:\n",
    "            self.params += layer.params\n",
    "            self.grads += layer.grads\n",
    "            \n",
    "        # 인스턴스 변수에 단어의 분산 표현을 저장한다.\n",
    "        self.word_vecs1 = W_in\n",
    "        self.word_vecs2 = W_out\n",
    "        \n",
    "    def forward(self, contexts, target):\n",
    "        h = 0\n",
    "        for i, layer in enumerate(self.in_layers):\n",
    "            h += layer.forward(contexts[:, i])\n",
    "        h *= 1 / len(self.in_layers)  # average\n",
    "        loss = self.ns_loss.forward(h, target)\n",
    "        return loss\n",
    "    \n",
    "    def backward(self, dout=1):\n",
    "        dout = self.ns_loss.backward(dout)\n",
    "        dout *= 1 / len(self.in_layers)\n",
    "        for layer in self.in_layers:\n",
    "            layer.backward(dout)\n",
    "        return None"
   ],
   "id": "b26eaaca6cf2db9f",
   "outputs": [],
   "execution_count": 21
  },
  {
   "metadata": {},
   "cell_type": "markdown",
   "source": "### 4.3.3 CBOW 모델 평가",
   "id": "ec8064b350f979b0"
  },
  {
   "metadata": {
    "ExecuteTime": {
     "end_time": "2024-07-15T12:48:33.698812Z",
     "start_time": "2024-07-15T12:48:33.688813Z"
    }
   },
   "cell_type": "code",
   "source": [
    "import sys\n",
    "sys.path.append('..')\n",
    "import pickle\n",
    "from common.util import most_similar, analogy"
   ],
   "id": "c16fab95dda3a129",
   "outputs": [],
   "execution_count": 22
  },
  {
   "metadata": {
    "ExecuteTime": {
     "end_time": "2024-07-15T12:48:54.620652Z",
     "start_time": "2024-07-15T12:48:54.615651Z"
    }
   },
   "cell_type": "code",
   "source": [
    "pkl_file = './cbow_params.pkl'\n",
    "with open(pkl_file, 'rb') as f:\n",
    "    params = pickle.load(f)"
   ],
   "id": "8726ad3ae0d67c8d",
   "outputs": [],
   "execution_count": 24
  },
  {
   "metadata": {
    "ExecuteTime": {
     "end_time": "2024-07-15T12:48:58.648424Z",
     "start_time": "2024-07-15T12:48:58.639416Z"
    }
   },
   "cell_type": "code",
   "source": [
    "word_vecs = params['word_vecs']\n",
    "word_to_id = params['word_to_id']\n",
    "id_to_word = params['id_to_word']"
   ],
   "id": "a3ac13a649886791",
   "outputs": [],
   "execution_count": 25
  },
  {
   "metadata": {
    "ExecuteTime": {
     "end_time": "2024-07-15T12:49:02.238019Z",
     "start_time": "2024-07-15T12:49:01.776350Z"
    }
   },
   "cell_type": "code",
   "source": [
    "# 가장 비슷한(most similar) 단어 뽑기\n",
    "querys = ['you', 'year', 'car', 'toyota']\n",
    "for query in querys:\n",
    "    most_similar(query, word_to_id, id_to_word, word_vecs, top=5)"
   ],
   "id": "604324eb1dfc3140",
   "outputs": [
    {
     "name": "stdout",
     "output_type": "stream",
     "text": [
      "\n",
      "[query] you\n",
      " we: 0.6103515625\n",
      " someone: 0.59130859375\n",
      " i: 0.55419921875\n",
      " something: 0.48974609375\n",
      " anyone: 0.47314453125\n",
      "\n",
      "[query] year\n",
      " month: 0.71875\n",
      " week: 0.65234375\n",
      " spring: 0.62744140625\n",
      " summer: 0.6259765625\n",
      " decade: 0.603515625\n",
      "\n",
      "[query] car\n",
      " luxury: 0.497314453125\n",
      " arabia: 0.47802734375\n",
      " auto: 0.47119140625\n",
      " disk-drive: 0.450927734375\n",
      " travel: 0.4091796875\n",
      "\n",
      "[query] toyota\n",
      " ford: 0.55078125\n",
      " instrumentation: 0.509765625\n",
      " mazda: 0.49365234375\n",
      " bethlehem: 0.47509765625\n",
      " nissan: 0.474853515625\n"
     ]
    }
   ],
   "execution_count": 26
  },
  {
   "metadata": {
    "ExecuteTime": {
     "end_time": "2024-07-15T12:49:05.807757Z",
     "start_time": "2024-07-15T12:49:05.785160Z"
    }
   },
   "cell_type": "code",
   "source": [
    "# 유추(analogy) 작업\n",
    "print('-'*50)\n",
    "analogy('king', 'man', 'queen',  word_to_id, id_to_word, word_vecs)\n",
    "analogy('take', 'took', 'go',  word_to_id, id_to_word, word_vecs)\n",
    "analogy('car', 'cars', 'child',  word_to_id, id_to_word, word_vecs)\n",
    "analogy('good', 'better', 'bad',  word_to_id, id_to_word, word_vecs)"
   ],
   "id": "57624ed7ae1640ce",
   "outputs": [
    {
     "name": "stdout",
     "output_type": "stream",
     "text": [
      "--------------------------------------------------\n",
      "\n",
      "[analogy] king:man = queen:?\n",
      " woman: 5.16015625\n",
      " veto: 4.9296875\n",
      " ounce: 4.69140625\n",
      " earthquake: 4.6328125\n",
      " successor: 4.609375\n",
      "\n",
      "[analogy] take:took = go:?\n",
      " went: 4.55078125\n",
      " points: 4.25\n",
      " began: 4.09375\n",
      " comes: 3.98046875\n",
      " oct.: 3.90625\n",
      "\n",
      "[analogy] car:cars = child:?\n",
      " children: 5.21875\n",
      " average: 4.7265625\n",
      " yield: 4.20703125\n",
      " cattle: 4.1875\n",
      " priced: 4.1796875\n",
      "\n",
      "[analogy] good:better = bad:?\n",
      " more: 6.6484375\n",
      " less: 6.0625\n",
      " rather: 5.21875\n",
      " slower: 4.734375\n",
      " greater: 4.671875\n"
     ]
    }
   ],
   "execution_count": 27
  },
  {
   "metadata": {},
   "cell_type": "code",
   "outputs": [],
   "execution_count": null,
   "source": "",
   "id": "a2759e10e9423e4a"
  }
 ],
 "metadata": {
  "kernelspec": {
   "display_name": "Python 3",
   "language": "python",
   "name": "python3"
  },
  "language_info": {
   "codemirror_mode": {
    "name": "ipython",
    "version": 2
   },
   "file_extension": ".py",
   "mimetype": "text/x-python",
   "name": "python",
   "nbconvert_exporter": "python",
   "pygments_lexer": "ipython2",
   "version": "2.7.6"
  }
 },
 "nbformat": 4,
 "nbformat_minor": 5
}
