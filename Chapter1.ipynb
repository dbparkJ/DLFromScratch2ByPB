{
 "cells": [
  {
   "metadata": {
    "ExecuteTime": {
     "end_time": "2024-06-22T06:05:59.391276Z",
     "start_time": "2024-06-22T06:05:59.375277Z"
    }
   },
   "cell_type": "code",
   "source": "# 1. ",
   "id": "f246e078b384b16d",
   "outputs": [],
   "execution_count": 10
  },
  {
   "cell_type": "code",
   "id": "initial_id",
   "metadata": {
    "collapsed": true,
    "ExecuteTime": {
     "end_time": "2024-06-22T05:57:03.754783Z",
     "start_time": "2024-06-22T05:57:03.718774Z"
    }
   },
   "source": "import numpy as np",
   "outputs": [],
   "execution_count": 1
  },
  {
   "metadata": {
    "ExecuteTime": {
     "end_time": "2024-06-22T05:58:05.896462Z",
     "start_time": "2024-06-22T05:58:05.885457Z"
    }
   },
   "cell_type": "code",
   "source": "x = np.array([1, 2, 3])",
   "id": "b766d0005756c3af",
   "outputs": [],
   "execution_count": 2
  },
  {
   "metadata": {
    "ExecuteTime": {
     "end_time": "2024-06-22T05:58:13.665052Z",
     "start_time": "2024-06-22T05:58:13.656936Z"
    }
   },
   "cell_type": "code",
   "source": "x.__class__",
   "id": "b3bc8d95eb273e3a",
   "outputs": [
    {
     "data": {
      "text/plain": [
       "numpy.ndarray"
      ]
     },
     "execution_count": 3,
     "metadata": {},
     "output_type": "execute_result"
    }
   ],
   "execution_count": 3
  },
  {
   "metadata": {
    "ExecuteTime": {
     "end_time": "2024-06-22T05:58:18.627904Z",
     "start_time": "2024-06-22T05:58:18.624193Z"
    }
   },
   "cell_type": "code",
   "source": "x.shape",
   "id": "7efaddeecc123f89",
   "outputs": [
    {
     "data": {
      "text/plain": [
       "(3,)"
      ]
     },
     "execution_count": 4,
     "metadata": {},
     "output_type": "execute_result"
    }
   ],
   "execution_count": 4
  },
  {
   "metadata": {
    "ExecuteTime": {
     "end_time": "2024-06-22T05:58:25.053158Z",
     "start_time": "2024-06-22T05:58:25.038501Z"
    }
   },
   "cell_type": "code",
   "source": "x.ndim",
   "id": "602ecbbf50ab6f91",
   "outputs": [
    {
     "data": {
      "text/plain": [
       "1"
      ]
     },
     "execution_count": 5,
     "metadata": {},
     "output_type": "execute_result"
    }
   ],
   "execution_count": 5
  },
  {
   "metadata": {
    "ExecuteTime": {
     "end_time": "2024-06-22T05:58:48.943591Z",
     "start_time": "2024-06-22T05:58:48.937658Z"
    }
   },
   "cell_type": "code",
   "source": "W = np.array([[1, 2, 3], [4, 5, 6]])",
   "id": "3957672e258e7327",
   "outputs": [],
   "execution_count": 6
  },
  {
   "metadata": {
    "ExecuteTime": {
     "end_time": "2024-06-22T05:58:54.465223Z",
     "start_time": "2024-06-22T05:58:54.455206Z"
    }
   },
   "cell_type": "code",
   "source": "W.shape",
   "id": "d15f13ac7dffa68a",
   "outputs": [
    {
     "data": {
      "text/plain": [
       "(2, 3)"
      ]
     },
     "execution_count": 7,
     "metadata": {},
     "output_type": "execute_result"
    }
   ],
   "execution_count": 7
  },
  {
   "metadata": {
    "ExecuteTime": {
     "end_time": "2024-06-22T05:59:05.054382Z",
     "start_time": "2024-06-22T05:59:05.042791Z"
    }
   },
   "cell_type": "code",
   "source": "W.ndim",
   "id": "a942565b4df626e8",
   "outputs": [
    {
     "data": {
      "text/plain": [
       "2"
      ]
     },
     "execution_count": 8,
     "metadata": {},
     "output_type": "execute_result"
    }
   ],
   "execution_count": 8
  }
 ],
 "metadata": {
  "kernelspec": {
   "display_name": "Python 3",
   "language": "python",
   "name": "python3"
  },
  "language_info": {
   "codemirror_mode": {
    "name": "ipython",
    "version": 2
   },
   "file_extension": ".py",
   "mimetype": "text/x-python",
   "name": "python",
   "nbconvert_exporter": "python",
   "pygments_lexer": "ipython2",
   "version": "2.7.6"
  }
 },
 "nbformat": 4,
 "nbformat_minor": 5
}
