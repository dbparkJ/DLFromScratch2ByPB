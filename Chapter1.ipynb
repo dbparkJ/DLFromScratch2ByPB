{
 "cells": [
  {
   "metadata": {
    "ExecuteTime": {
     "end_time": "2024-06-22T06:09:28.501429Z",
     "start_time": "2024-06-22T06:09:28.493998Z"
    }
   },
   "cell_type": "code",
   "source": "# 1. 신경망 복습",
   "id": "f246e078b384b16d",
   "outputs": [],
   "execution_count": 11
  },
  {
   "metadata": {
    "ExecuteTime": {
     "end_time": "2024-06-22T06:15:05.440588Z",
     "start_time": "2024-06-22T06:15:05.432412Z"
    }
   },
   "cell_type": "code",
   "source": "## 1.1.1 백터와 행렬",
   "id": "1271230db3a13f90",
   "outputs": [],
   "execution_count": 19
  },
  {
   "cell_type": "code",
   "id": "initial_id",
   "metadata": {
    "collapsed": true,
    "ExecuteTime": {
     "end_time": "2024-06-22T06:15:05.627504Z",
     "start_time": "2024-06-22T06:15:05.613359Z"
    }
   },
   "source": [
    "import numpy as np\n",
    "\n",
    "x = np.array([1, 2, 3])\n",
    "print(type(x))\n",
    "print(x.__class__) # 같은 type과 같이 같은 결과 값을 나타낸다\n",
    "\n",
    "x.shape # 다차원 배열의 형상\n",
    "x.ndim # 차원의 수 확인\n",
    "\n",
    "W = np.array([[1, 2, 3], [4, 5, 6]])\n",
    "W.shape\n",
    "\n",
    "W.ndim"
   ],
   "outputs": [
    {
     "name": "stdout",
     "output_type": "stream",
     "text": [
      "<class 'numpy.ndarray'>\n",
      "<class 'numpy.ndarray'>\n"
     ]
    },
    {
     "data": {
      "text/plain": [
       "2"
      ]
     },
     "execution_count": 20,
     "metadata": {},
     "output_type": "execute_result"
    }
   ],
   "execution_count": 20
  },
  {
   "metadata": {
    "ExecuteTime": {
     "end_time": "2024-06-22T06:15:24.103317Z",
     "start_time": "2024-06-22T06:15:24.099326Z"
    }
   },
   "cell_type": "code",
   "source": "## 1.1.2 행렬의 원소별 연산",
   "id": "7321d62341377fff",
   "outputs": [],
   "execution_count": 22
  },
  {
   "metadata": {
    "ExecuteTime": {
     "end_time": "2024-06-22T06:17:53.685040Z",
     "start_time": "2024-06-22T06:17:53.681119Z"
    }
   },
   "cell_type": "code",
   "source": [
    "W = np.array([[1, 2, 3], [4, 5, 6]])\n",
    "X = np.array([[0, 1, 2], [3, 4, 5]])\n",
    "\n",
    "W+X\n",
    "W*X\n",
    "\n",
    "# 차원의 수와 원소의 수가 일치하면 원소별 연산이 가능하다"
   ],
   "id": "3cc361615f984db1",
   "outputs": [
    {
     "data": {
      "text/plain": [
       "array([[ 0,  2,  6],\n",
       "       [12, 20, 30]])"
      ]
     },
     "execution_count": 26,
     "metadata": {},
     "output_type": "execute_result"
    }
   ],
   "execution_count": 26
  },
  {
   "metadata": {
    "ExecuteTime": {
     "end_time": "2024-06-22T06:21:14.847909Z",
     "start_time": "2024-06-22T06:21:14.834437Z"
    }
   },
   "cell_type": "code",
   "source": [
    "# 브로드 캐스트 연산 예1 \n",
    "A = np.array([[1,2], [3,4]])\n",
    "A * 10\n",
    "\n",
    "# 브로드 캐스트 연산 예2\n",
    "A = np.array([[1,2], [3,4]])\n",
    "b = np.array([10, 20])\n",
    "A*b\n",
    "\n",
    "'''\n",
    "1차원 배열인 b가 2차원 배열 A와 형상이 같아 지도록 확장된다\n",
    "'''"
   ],
   "id": "6f8e1c12df7a1886",
   "outputs": [
    {
     "data": {
      "text/plain": [
       "'\\n1차원 배열인 b가 2차원 배열 A와 형상이 같아 지도록 확장된다\\n'"
      ]
     },
     "execution_count": 32,
     "metadata": {},
     "output_type": "execute_result"
    }
   ],
   "execution_count": 32
  },
  {
   "metadata": {},
   "cell_type": "code",
   "outputs": [],
   "execution_count": null,
   "source": "\n",
   "id": "e4633bcae77325a5"
  }
 ],
 "metadata": {
  "kernelspec": {
   "display_name": "Python 3",
   "language": "python",
   "name": "python3"
  },
  "language_info": {
   "codemirror_mode": {
    "name": "ipython",
    "version": 2
   },
   "file_extension": ".py",
   "mimetype": "text/x-python",
   "name": "python",
   "nbconvert_exporter": "python",
   "pygments_lexer": "ipython2",
   "version": "2.7.6"
  }
 },
 "nbformat": 4,
 "nbformat_minor": 5
}
